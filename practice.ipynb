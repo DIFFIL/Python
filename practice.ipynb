{
 "cells": [
  {
   "cell_type": "code",
   "execution_count": 1,
   "metadata": {},
   "outputs": [
    {
     "name": "stdout",
     "output_type": "stream",
     "text": [
      "aur neeche socho \n",
      "aur bada socho\n",
      "aur neeche socho \n",
      "sahi socha\n",
      "4\n"
     ]
    }
   ],
   "source": [
    "import random\n",
    "a=random.randint(1,100)\n",
    "num=int(input(\"number daal\"))\n",
    "# if(num==a):\n",
    "    # print(\"sahi socha lund ke \")\n",
    "# else:\n",
    "m=0\n",
    "while(num!=a):\n",
    "    if(num==a):\n",
    "        print(\"sahi socho \")\n",
    "        m+=1        \n",
    "    elif(num<a):\n",
    "        print(\"aur bada socho\")\n",
    "        num=int(input(\"daal dubara \"))\n",
    "        m+=1\n",
    "    else:\n",
    "        print(\"aur neeche socho \")\n",
    "        num=int(input(\"daal\"))\n",
    "        m+=1\n",
    "    # print(\"mil gya lund ke \")\n",
    "print(\"sahi socha\")      \n",
    "print(m+1)     "
   ]
  },
  {
   "cell_type": "code",
   "execution_count": 7,
   "metadata": {},
   "outputs": [
    {
     "name": "stdout",
     "output_type": "stream",
     "text": [
      "1\n",
      " \n",
      "2\n",
      " \n",
      "3\n",
      " \n",
      "4\n",
      " \n",
      "5\n",
      " \n",
      "6\n",
      " \n"
     ]
    }
   ],
   "source": [
    "# a=1\n",
    "for i in range(1,7):\n",
    "    print(i)\n",
    "    print(\" \")"
   ]
  },
  {
   "cell_type": "code",
   "execution_count": 3,
   "metadata": {},
   "outputs": [
    {
     "name": "stdout",
     "output_type": "stream",
     "text": [
      " $  \n",
      " $   $  \n",
      " $   $   $  \n",
      " $   $   $   $  \n",
      " $   $   $   $   $  \n"
     ]
    }
   ],
   "source": [
    "for i in range(1,6):\n",
    "    for j in range(0,i):\n",
    "        print(\" $ \",end=\" \")\n",
    "    print()"
   ]
  },
  {
   "cell_type": "markdown",
   "metadata": {},
   "source": []
  },
  {
   "cell_type": "code",
   "execution_count": 21,
   "metadata": {},
   "outputs": [
    {
     "data": {
      "text/plain": [
       "'ayush'"
      ]
     },
     "execution_count": 21,
     "metadata": {},
     "output_type": "execute_result"
    }
   ],
   "source": [
    "input(\"entre your name: \")"
   ]
  },
  {
   "cell_type": "code",
   "execution_count": 6,
   "metadata": {},
   "outputs": [
    {
     "data": {
      "text/plain": [
       "'HELLO WORLD'"
      ]
     },
     "execution_count": 6,
     "metadata": {},
     "output_type": "execute_result"
    }
   ],
   "source": [
    "a=\"hello world\"\n",
    "a.upper()"
   ]
  },
  {
   "cell_type": "code",
   "execution_count": 14,
   "metadata": {},
   "outputs": [
    {
     "name": "stdout",
     "output_type": "stream",
     "text": [
      "[1, 'helo', True, 500, 600]\n"
     ]
    }
   ],
   "source": [
    "list=[1,\"helo\",True]\n",
    "list2=list\n",
    "list.extend([500,600])\n",
    "print(list)"
   ]
  },
  {
   "cell_type": "code",
   "execution_count": 70,
   "metadata": {},
   "outputs": [
    {
     "name": "stdout",
     "output_type": "stream",
     "text": [
      "[55, 43.54, 1]\n"
     ]
    }
   ],
   "source": [
    "list=[1,55,43.54]\n",
    "list.sort(reverse=True)\n",
    "# list.reverse()\n",
    "\n",
    "\n",
    "print(list)"
   ]
  },
  {
   "cell_type": "code",
   "execution_count": 46,
   "metadata": {},
   "outputs": [
    {
     "name": "stdout",
     "output_type": "stream",
     "text": [
      "abcfefewf"
     ]
    }
   ],
   "source": [
    "email=\"abcfefewf@gamil.com\"\n",
    "a=email.index(\"@\")\n",
    "for i in email:\n",
    "    \n",
    "    if(i==\"@\"):\n",
    "        break\n",
    "    \n",
    "    print(i,end=\"\")"
   ]
  },
  {
   "cell_type": "code",
   "execution_count": 73,
   "metadata": {},
   "outputs": [
    {
     "data": {
      "text/plain": [
       "set"
      ]
     },
     "execution_count": 73,
     "metadata": {},
     "output_type": "execute_result"
    }
   ],
   "source": [
    "s1={}\n",
    "s=set(s1)\n",
    "type(s) "
   ]
  },
  {
   "cell_type": "code",
   "execution_count": null,
   "metadata": {},
   "outputs": [],
   "source": []
  }
 ],
 "metadata": {
  "kernelspec": {
   "display_name": "Python 3",
   "language": "python",
   "name": "python3"
  },
  "language_info": {
   "codemirror_mode": {
    "name": "ipython",
    "version": 3
   },
   "file_extension": ".py",
   "mimetype": "text/x-python",
   "name": "python",
   "nbconvert_exporter": "python",
   "pygments_lexer": "ipython3",
   "version": "3.13.0"
  },
  "orig_nbformat": 4
 },
 "nbformat": 4,
 "nbformat_minor": 2
}
